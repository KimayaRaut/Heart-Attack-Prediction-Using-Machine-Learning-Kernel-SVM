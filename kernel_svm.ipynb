{
 "cells": [
  {
   "cell_type": "markdown",
   "metadata": {
    "colab_type": "text",
    "id": "0MRC0e0KhQ0S"
   },
   "source": [
    "# Kernel SVM"
   ]
  },
  {
   "cell_type": "markdown",
   "metadata": {
    "colab_type": "text",
    "id": "LWd1UlMnhT2s"
   },
   "source": [
    "## Importing the libraries"
   ]
  },
  {
   "cell_type": "code",
   "execution_count": 1,
   "metadata": {
    "colab": {},
    "colab_type": "code",
    "id": "YvGPUQaHhXfL"
   },
   "outputs": [],
   "source": [
    "import numpy as np\n",
    "import matplotlib.pyplot as plt\n",
    "import pandas as pd"
   ]
  },
  {
   "cell_type": "markdown",
   "metadata": {
    "colab_type": "text",
    "id": "K1VMqkGvhc3-"
   },
   "source": [
    "## Importing the dataset"
   ]
  },
  {
   "cell_type": "code",
   "execution_count": 2,
   "metadata": {
    "colab": {},
    "colab_type": "code",
    "id": "M52QDmyzhh9s"
   },
   "outputs": [],
   "source": [
    "dataset = pd.read_csv('heart.csv')\n",
    "X = dataset.iloc[:, :-1].values\n",
    "y = dataset.iloc[:, -1].values"
   ]
  },
  {
   "cell_type": "code",
   "execution_count": 3,
   "metadata": {},
   "outputs": [
    {
     "name": "stdout",
     "output_type": "stream",
     "text": [
      "[[63.  1.  3. ...  0.  0.  1.]\n",
      " [37.  1.  2. ...  0.  0.  2.]\n",
      " [41.  0.  1. ...  2.  0.  2.]\n",
      " ...\n",
      " [68.  1.  0. ...  1.  2.  3.]\n",
      " [57.  1.  0. ...  1.  1.  3.]\n",
      " [57.  0.  1. ...  1.  1.  2.]]\n"
     ]
    }
   ],
   "source": [
    "print(X)"
   ]
  },
  {
   "cell_type": "code",
   "execution_count": 4,
   "metadata": {},
   "outputs": [
    {
     "name": "stdout",
     "output_type": "stream",
     "text": [
      "[1 1 1 1 1 1 1 1 1 1 1 1 1 1 1 1 1 1 1 1 1 1 1 1 1 1 1 1 1 1 1 1 1 1 1 1 1\n",
      " 1 1 1 1 1 1 1 1 1 1 1 1 1 1 1 1 1 1 1 1 1 1 1 1 1 1 1 1 1 1 1 1 1 1 1 1 1\n",
      " 1 1 1 1 1 1 1 1 1 1 1 1 1 1 1 1 1 1 1 1 1 1 1 1 1 1 1 1 1 1 1 1 1 1 1 1 1\n",
      " 1 1 1 1 1 1 1 1 1 1 1 1 1 1 1 1 1 1 1 1 1 1 1 1 1 1 1 1 1 1 1 1 1 1 1 1 1\n",
      " 1 1 1 1 1 1 1 1 1 1 1 1 1 1 1 1 1 0 0 0 0 0 0 0 0 0 0 0 0 0 0 0 0 0 0 0 0\n",
      " 0 0 0 0 0 0 0 0 0 0 0 0 0 0 0 0 0 0 0 0 0 0 0 0 0 0 0 0 0 0 0 0 0 0 0 0 0\n",
      " 0 0 0 0 0 0 0 0 0 0 0 0 0 0 0 0 0 0 0 0 0 0 0 0 0 0 0 0 0 0 0 0 0 0 0 0 0\n",
      " 0 0 0 0 0 0 0 0 0 0 0 0 0 0 0 0 0 0 0 0 0 0 0 0 0 0 0 0 0 0 0 0 0 0 0 0 0\n",
      " 0 0 0 0 0 0 0]\n"
     ]
    }
   ],
   "source": [
    "print(y)"
   ]
  },
  {
   "cell_type": "markdown",
   "metadata": {
    "colab_type": "text",
    "id": "YvxIPVyMhmKp"
   },
   "source": [
    "## Splitting the dataset into the Training set and Test set"
   ]
  },
  {
   "cell_type": "code",
   "execution_count": 5,
   "metadata": {
    "colab": {},
    "colab_type": "code",
    "id": "AVzJWAXIhxoC"
   },
   "outputs": [],
   "source": [
    "from sklearn.model_selection import train_test_split\n",
    "X_train, X_test, y_train, y_test = train_test_split(X, y, test_size = 0.25, random_state = 0)"
   ]
  },
  {
   "cell_type": "code",
   "execution_count": 6,
   "metadata": {},
   "outputs": [
    {
     "name": "stdout",
     "output_type": "stream",
     "text": [
      "[[58.  1.  2. ...  2.  2.  3.]\n",
      " [52.  1.  0. ...  2.  1.  2.]\n",
      " [54.  1.  2. ...  2.  0.  3.]\n",
      " ...\n",
      " [56.  1.  3. ...  1.  0.  3.]\n",
      " [47.  1.  2. ...  2.  0.  2.]\n",
      " [58.  1.  1. ...  1.  0.  2.]]\n"
     ]
    }
   ],
   "source": [
    "print(X_train)"
   ]
  },
  {
   "cell_type": "code",
   "execution_count": 7,
   "metadata": {},
   "outputs": [
    {
     "name": "stdout",
     "output_type": "stream",
     "text": [
      "[[7.00e+01 1.00e+00 0.00e+00 1.45e+02 1.74e+02 0.00e+00 1.00e+00 1.25e+02\n",
      "  1.00e+00 2.60e+00 0.00e+00 0.00e+00 3.00e+00]\n",
      " [6.40e+01 1.00e+00 3.00e+00 1.70e+02 2.27e+02 0.00e+00 0.00e+00 1.55e+02\n",
      "  0.00e+00 6.00e-01 1.00e+00 0.00e+00 3.00e+00]\n",
      " [5.90e+01 1.00e+00 3.00e+00 1.70e+02 2.88e+02 0.00e+00 0.00e+00 1.59e+02\n",
      "  0.00e+00 2.00e-01 1.00e+00 0.00e+00 3.00e+00]\n",
      " [6.00e+01 1.00e+00 0.00e+00 1.25e+02 2.58e+02 0.00e+00 0.00e+00 1.41e+02\n",
      "  1.00e+00 2.80e+00 1.00e+00 1.00e+00 3.00e+00]\n",
      " [6.20e+01 1.00e+00 2.00e+00 1.30e+02 2.31e+02 0.00e+00 1.00e+00 1.46e+02\n",
      "  0.00e+00 1.80e+00 1.00e+00 3.00e+00 3.00e+00]\n",
      " [4.80e+01 1.00e+00 0.00e+00 1.24e+02 2.74e+02 0.00e+00 0.00e+00 1.66e+02\n",
      "  0.00e+00 5.00e-01 1.00e+00 0.00e+00 3.00e+00]\n",
      " [4.00e+01 1.00e+00 0.00e+00 1.10e+02 1.67e+02 0.00e+00 0.00e+00 1.14e+02\n",
      "  1.00e+00 2.00e+00 1.00e+00 0.00e+00 3.00e+00]\n",
      " [6.30e+01 1.00e+00 0.00e+00 1.30e+02 2.54e+02 0.00e+00 0.00e+00 1.47e+02\n",
      "  0.00e+00 1.40e+00 1.00e+00 1.00e+00 3.00e+00]\n",
      " [5.60e+01 0.00e+00 0.00e+00 2.00e+02 2.88e+02 1.00e+00 0.00e+00 1.33e+02\n",
      "  1.00e+00 4.00e+00 0.00e+00 2.00e+00 3.00e+00]\n",
      " [6.30e+01 1.00e+00 0.00e+00 1.30e+02 3.30e+02 1.00e+00 0.00e+00 1.32e+02\n",
      "  1.00e+00 1.80e+00 2.00e+00 3.00e+00 3.00e+00]\n",
      " [5.70e+01 1.00e+00 2.00e+00 1.50e+02 1.26e+02 1.00e+00 1.00e+00 1.73e+02\n",
      "  0.00e+00 2.00e-01 2.00e+00 1.00e+00 3.00e+00]\n",
      " [4.90e+01 0.00e+00 0.00e+00 1.30e+02 2.69e+02 0.00e+00 1.00e+00 1.63e+02\n",
      "  0.00e+00 0.00e+00 2.00e+00 0.00e+00 2.00e+00]\n",
      " [6.50e+01 1.00e+00 0.00e+00 1.35e+02 2.54e+02 0.00e+00 0.00e+00 1.27e+02\n",
      "  0.00e+00 2.80e+00 1.00e+00 1.00e+00 3.00e+00]\n",
      " [4.90e+01 1.00e+00 1.00e+00 1.30e+02 2.66e+02 0.00e+00 1.00e+00 1.71e+02\n",
      "  0.00e+00 6.00e-01 2.00e+00 0.00e+00 2.00e+00]\n",
      " [5.00e+01 0.00e+00 2.00e+00 1.20e+02 2.19e+02 0.00e+00 1.00e+00 1.58e+02\n",
      "  0.00e+00 1.60e+00 1.00e+00 0.00e+00 2.00e+00]\n",
      " [5.10e+01 1.00e+00 2.00e+00 1.00e+02 2.22e+02 0.00e+00 1.00e+00 1.43e+02\n",
      "  1.00e+00 1.20e+00 1.00e+00 0.00e+00 2.00e+00]\n",
      " [5.20e+01 1.00e+00 0.00e+00 1.08e+02 2.33e+02 1.00e+00 1.00e+00 1.47e+02\n",
      "  0.00e+00 1.00e-01 2.00e+00 3.00e+00 3.00e+00]\n",
      " [4.80e+01 1.00e+00 2.00e+00 1.24e+02 2.55e+02 1.00e+00 1.00e+00 1.75e+02\n",
      "  0.00e+00 0.00e+00 2.00e+00 2.00e+00 2.00e+00]\n",
      " [6.20e+01 1.00e+00 0.00e+00 1.20e+02 2.67e+02 0.00e+00 1.00e+00 9.90e+01\n",
      "  1.00e+00 1.80e+00 1.00e+00 2.00e+00 3.00e+00]\n",
      " [4.20e+01 1.00e+00 2.00e+00 1.20e+02 2.40e+02 1.00e+00 1.00e+00 1.94e+02\n",
      "  0.00e+00 8.00e-01 0.00e+00 0.00e+00 3.00e+00]\n",
      " [4.20e+01 1.00e+00 0.00e+00 1.40e+02 2.26e+02 0.00e+00 1.00e+00 1.78e+02\n",
      "  0.00e+00 0.00e+00 2.00e+00 0.00e+00 2.00e+00]\n",
      " [3.90e+01 1.00e+00 0.00e+00 1.18e+02 2.19e+02 0.00e+00 1.00e+00 1.40e+02\n",
      "  0.00e+00 1.20e+00 1.00e+00 0.00e+00 3.00e+00]\n",
      " [6.20e+01 1.00e+00 1.00e+00 1.20e+02 2.81e+02 0.00e+00 0.00e+00 1.03e+02\n",
      "  0.00e+00 1.40e+00 1.00e+00 1.00e+00 3.00e+00]\n",
      " [5.40e+01 1.00e+00 0.00e+00 1.10e+02 2.06e+02 0.00e+00 0.00e+00 1.08e+02\n",
      "  1.00e+00 0.00e+00 1.00e+00 1.00e+00 2.00e+00]\n",
      " [4.10e+01 1.00e+00 1.00e+00 1.10e+02 2.35e+02 0.00e+00 1.00e+00 1.53e+02\n",
      "  0.00e+00 0.00e+00 2.00e+00 0.00e+00 2.00e+00]\n",
      " [6.20e+01 0.00e+00 2.00e+00 1.30e+02 2.63e+02 0.00e+00 1.00e+00 9.70e+01\n",
      "  0.00e+00 1.20e+00 1.00e+00 1.00e+00 3.00e+00]\n",
      " [5.20e+01 1.00e+00 0.00e+00 1.25e+02 2.12e+02 0.00e+00 1.00e+00 1.68e+02\n",
      "  0.00e+00 1.00e+00 2.00e+00 2.00e+00 3.00e+00]\n",
      " [4.60e+01 1.00e+00 0.00e+00 1.20e+02 2.49e+02 0.00e+00 0.00e+00 1.44e+02\n",
      "  0.00e+00 8.00e-01 2.00e+00 0.00e+00 3.00e+00]\n",
      " [3.90e+01 0.00e+00 2.00e+00 1.38e+02 2.20e+02 0.00e+00 1.00e+00 1.52e+02\n",
      "  0.00e+00 0.00e+00 1.00e+00 0.00e+00 2.00e+00]\n",
      " [5.20e+01 1.00e+00 1.00e+00 1.34e+02 2.01e+02 0.00e+00 1.00e+00 1.58e+02\n",
      "  0.00e+00 8.00e-01 2.00e+00 1.00e+00 2.00e+00]\n",
      " [6.00e+01 1.00e+00 2.00e+00 1.40e+02 1.85e+02 0.00e+00 0.00e+00 1.55e+02\n",
      "  0.00e+00 3.00e+00 1.00e+00 0.00e+00 2.00e+00]\n",
      " [4.50e+01 1.00e+00 0.00e+00 1.42e+02 3.09e+02 0.00e+00 0.00e+00 1.47e+02\n",
      "  1.00e+00 0.00e+00 1.00e+00 3.00e+00 3.00e+00]\n",
      " [4.10e+01 0.00e+00 1.00e+00 1.26e+02 3.06e+02 0.00e+00 1.00e+00 1.63e+02\n",
      "  0.00e+00 0.00e+00 2.00e+00 0.00e+00 2.00e+00]\n",
      " [5.20e+01 1.00e+00 2.00e+00 1.72e+02 1.99e+02 1.00e+00 1.00e+00 1.62e+02\n",
      "  0.00e+00 5.00e-01 2.00e+00 0.00e+00 3.00e+00]\n",
      " [3.50e+01 1.00e+00 1.00e+00 1.22e+02 1.92e+02 0.00e+00 1.00e+00 1.74e+02\n",
      "  0.00e+00 0.00e+00 2.00e+00 0.00e+00 2.00e+00]\n",
      " [5.90e+01 0.00e+00 0.00e+00 1.74e+02 2.49e+02 0.00e+00 1.00e+00 1.43e+02\n",
      "  1.00e+00 0.00e+00 1.00e+00 0.00e+00 2.00e+00]\n",
      " [7.00e+01 1.00e+00 2.00e+00 1.60e+02 2.69e+02 0.00e+00 1.00e+00 1.12e+02\n",
      "  1.00e+00 2.90e+00 1.00e+00 1.00e+00 3.00e+00]\n",
      " [4.50e+01 1.00e+00 1.00e+00 1.28e+02 3.08e+02 0.00e+00 0.00e+00 1.70e+02\n",
      "  0.00e+00 0.00e+00 2.00e+00 0.00e+00 2.00e+00]\n",
      " [5.60e+01 1.00e+00 0.00e+00 1.25e+02 2.49e+02 1.00e+00 0.00e+00 1.44e+02\n",
      "  1.00e+00 1.20e+00 1.00e+00 1.00e+00 2.00e+00]\n",
      " [6.20e+01 0.00e+00 0.00e+00 1.40e+02 2.68e+02 0.00e+00 0.00e+00 1.60e+02\n",
      "  0.00e+00 3.60e+00 0.00e+00 2.00e+00 2.00e+00]\n",
      " [5.70e+01 1.00e+00 0.00e+00 1.40e+02 1.92e+02 0.00e+00 1.00e+00 1.48e+02\n",
      "  0.00e+00 4.00e-01 1.00e+00 0.00e+00 1.00e+00]\n",
      " [5.70e+01 0.00e+00 0.00e+00 1.28e+02 3.03e+02 0.00e+00 0.00e+00 1.59e+02\n",
      "  0.00e+00 0.00e+00 2.00e+00 1.00e+00 2.00e+00]\n",
      " [5.20e+01 1.00e+00 2.00e+00 1.38e+02 2.23e+02 0.00e+00 1.00e+00 1.69e+02\n",
      "  0.00e+00 0.00e+00 2.00e+00 4.00e+00 2.00e+00]\n",
      " [4.70e+01 1.00e+00 0.00e+00 1.10e+02 2.75e+02 0.00e+00 0.00e+00 1.18e+02\n",
      "  1.00e+00 1.00e+00 1.00e+00 1.00e+00 2.00e+00]\n",
      " [5.10e+01 1.00e+00 3.00e+00 1.25e+02 2.13e+02 0.00e+00 0.00e+00 1.25e+02\n",
      "  1.00e+00 1.40e+00 2.00e+00 1.00e+00 2.00e+00]\n",
      " [7.00e+01 1.00e+00 1.00e+00 1.56e+02 2.45e+02 0.00e+00 0.00e+00 1.43e+02\n",
      "  0.00e+00 0.00e+00 2.00e+00 0.00e+00 2.00e+00]\n",
      " [4.10e+01 1.00e+00 2.00e+00 1.30e+02 2.14e+02 0.00e+00 0.00e+00 1.68e+02\n",
      "  0.00e+00 2.00e+00 1.00e+00 0.00e+00 2.00e+00]\n",
      " [5.00e+01 1.00e+00 2.00e+00 1.40e+02 2.33e+02 0.00e+00 1.00e+00 1.63e+02\n",
      "  0.00e+00 6.00e-01 1.00e+00 1.00e+00 3.00e+00]\n",
      " [5.60e+01 0.00e+00 0.00e+00 1.34e+02 4.09e+02 0.00e+00 0.00e+00 1.50e+02\n",
      "  1.00e+00 1.90e+00 1.00e+00 2.00e+00 3.00e+00]\n",
      " [4.40e+01 1.00e+00 1.00e+00 1.20e+02 2.63e+02 0.00e+00 1.00e+00 1.73e+02\n",
      "  0.00e+00 0.00e+00 2.00e+00 0.00e+00 3.00e+00]\n",
      " [5.20e+01 1.00e+00 1.00e+00 1.20e+02 3.25e+02 0.00e+00 1.00e+00 1.72e+02\n",
      "  0.00e+00 2.00e-01 2.00e+00 0.00e+00 2.00e+00]\n",
      " [7.40e+01 0.00e+00 1.00e+00 1.20e+02 2.69e+02 0.00e+00 0.00e+00 1.21e+02\n",
      "  1.00e+00 2.00e-01 2.00e+00 1.00e+00 2.00e+00]\n",
      " [4.10e+01 0.00e+00 2.00e+00 1.12e+02 2.68e+02 0.00e+00 0.00e+00 1.72e+02\n",
      "  1.00e+00 0.00e+00 2.00e+00 0.00e+00 2.00e+00]\n",
      " [4.10e+01 1.00e+00 1.00e+00 1.35e+02 2.03e+02 0.00e+00 1.00e+00 1.32e+02\n",
      "  0.00e+00 0.00e+00 1.00e+00 0.00e+00 1.00e+00]\n",
      " [3.90e+01 0.00e+00 2.00e+00 9.40e+01 1.99e+02 0.00e+00 1.00e+00 1.79e+02\n",
      "  0.00e+00 0.00e+00 2.00e+00 0.00e+00 2.00e+00]\n",
      " [3.50e+01 1.00e+00 0.00e+00 1.20e+02 1.98e+02 0.00e+00 1.00e+00 1.30e+02\n",
      "  1.00e+00 1.60e+00 1.00e+00 0.00e+00 3.00e+00]\n",
      " [4.40e+01 0.00e+00 2.00e+00 1.18e+02 2.42e+02 0.00e+00 1.00e+00 1.49e+02\n",
      "  0.00e+00 3.00e-01 1.00e+00 1.00e+00 2.00e+00]\n",
      " [5.70e+01 0.00e+00 1.00e+00 1.30e+02 2.36e+02 0.00e+00 0.00e+00 1.74e+02\n",
      "  0.00e+00 0.00e+00 1.00e+00 1.00e+00 2.00e+00]\n",
      " [5.90e+01 1.00e+00 2.00e+00 1.50e+02 2.12e+02 1.00e+00 1.00e+00 1.57e+02\n",
      "  0.00e+00 1.60e+00 2.00e+00 0.00e+00 2.00e+00]\n",
      " [5.00e+01 0.00e+00 1.00e+00 1.20e+02 2.44e+02 0.00e+00 1.00e+00 1.62e+02\n",
      "  0.00e+00 1.10e+00 2.00e+00 0.00e+00 2.00e+00]\n",
      " [5.80e+01 0.00e+00 0.00e+00 1.00e+02 2.48e+02 0.00e+00 0.00e+00 1.22e+02\n",
      "  0.00e+00 1.00e+00 1.00e+00 0.00e+00 2.00e+00]\n",
      " [4.30e+01 0.00e+00 2.00e+00 1.22e+02 2.13e+02 0.00e+00 1.00e+00 1.65e+02\n",
      "  0.00e+00 2.00e-01 1.00e+00 0.00e+00 2.00e+00]\n",
      " [6.60e+01 0.00e+00 2.00e+00 1.46e+02 2.78e+02 0.00e+00 0.00e+00 1.52e+02\n",
      "  0.00e+00 0.00e+00 1.00e+00 1.00e+00 2.00e+00]\n",
      " [5.80e+01 1.00e+00 2.00e+00 1.40e+02 2.11e+02 1.00e+00 0.00e+00 1.65e+02\n",
      "  0.00e+00 0.00e+00 2.00e+00 0.00e+00 2.00e+00]\n",
      " [6.30e+01 0.00e+00 0.00e+00 1.24e+02 1.97e+02 0.00e+00 1.00e+00 1.36e+02\n",
      "  1.00e+00 0.00e+00 1.00e+00 0.00e+00 2.00e+00]\n",
      " [5.70e+01 1.00e+00 1.00e+00 1.54e+02 2.32e+02 0.00e+00 0.00e+00 1.64e+02\n",
      "  0.00e+00 0.00e+00 2.00e+00 1.00e+00 2.00e+00]\n",
      " [5.90e+01 1.00e+00 3.00e+00 1.34e+02 2.04e+02 0.00e+00 1.00e+00 1.62e+02\n",
      "  0.00e+00 8.00e-01 2.00e+00 2.00e+00 2.00e+00]\n",
      " [5.80e+01 1.00e+00 0.00e+00 1.25e+02 3.00e+02 0.00e+00 0.00e+00 1.71e+02\n",
      "  0.00e+00 0.00e+00 2.00e+00 2.00e+00 3.00e+00]\n",
      " [4.70e+01 1.00e+00 0.00e+00 1.12e+02 2.04e+02 0.00e+00 1.00e+00 1.43e+02\n",
      "  0.00e+00 1.00e-01 2.00e+00 0.00e+00 2.00e+00]\n",
      " [5.10e+01 1.00e+00 0.00e+00 1.40e+02 2.61e+02 0.00e+00 0.00e+00 1.86e+02\n",
      "  1.00e+00 0.00e+00 2.00e+00 0.00e+00 2.00e+00]\n",
      " [5.90e+01 1.00e+00 0.00e+00 1.35e+02 2.34e+02 0.00e+00 1.00e+00 1.61e+02\n",
      "  0.00e+00 5.00e-01 1.00e+00 0.00e+00 3.00e+00]\n",
      " [4.40e+01 1.00e+00 2.00e+00 1.40e+02 2.35e+02 0.00e+00 0.00e+00 1.80e+02\n",
      "  0.00e+00 0.00e+00 2.00e+00 0.00e+00 2.00e+00]\n",
      " [5.60e+01 1.00e+00 1.00e+00 1.20e+02 2.40e+02 0.00e+00 1.00e+00 1.69e+02\n",
      "  0.00e+00 0.00e+00 0.00e+00 0.00e+00 2.00e+00]\n",
      " [5.50e+01 1.00e+00 0.00e+00 1.60e+02 2.89e+02 0.00e+00 0.00e+00 1.45e+02\n",
      "  1.00e+00 8.00e-01 1.00e+00 1.00e+00 3.00e+00]\n",
      " [6.50e+01 0.00e+00 0.00e+00 1.50e+02 2.25e+02 0.00e+00 0.00e+00 1.14e+02\n",
      "  0.00e+00 1.00e+00 1.00e+00 3.00e+00 3.00e+00]\n",
      " [5.10e+01 1.00e+00 2.00e+00 1.10e+02 1.75e+02 0.00e+00 1.00e+00 1.23e+02\n",
      "  0.00e+00 6.00e-01 2.00e+00 0.00e+00 2.00e+00]]\n"
     ]
    }
   ],
   "source": [
    "print(X_test)"
   ]
  },
  {
   "cell_type": "code",
   "execution_count": 8,
   "metadata": {},
   "outputs": [
    {
     "name": "stdout",
     "output_type": "stream",
     "text": [
      "[0 0 1 1 0 0 0 1 0 0 0 0 1 0 0 1 1 0 1 1 0 0 1 0 0 1 0 1 0 0 0 1 1 1 0 0 0\n",
      " 0 1 0 1 1 1 0 1 1 1 0 1 1 1 1 1 1 1 0 0 1 1 0 1 1 0 0 0 0 1 0 1 1 0 1 1 1\n",
      " 1 1 1 0 0 1 0 0 0 1 1 1 0 1 0 1 1 0 1 1 1 1 1 0 0 1 0 1 0 0 1 0 0 1 1 1 0\n",
      " 0 1 1 0 1 0 1 0 1 1 0 1 1 1 0 1 0 0 0 1 1 1 1 0 1 0 1 0 1 1 1 0 1 0 1 0 0\n",
      " 0 1 1 0 1 0 1 1 0 0 1 0 1 1 0 1 1 1 1 1 0 0 1 1 1 0 0 1 1 1 1 1 0 1 1 0 1\n",
      " 1 0 1 1 0 0 1 1 1 0 0 0 1 0 0 1 0 0 1 0 1 1 0 0 0 0 1 0 1 1 1 0 0 0 0 1 0\n",
      " 0 0 1 1 0]\n"
     ]
    }
   ],
   "source": [
    "print(y_train)"
   ]
  },
  {
   "cell_type": "code",
   "execution_count": 9,
   "metadata": {},
   "outputs": [
    {
     "name": "stdout",
     "output_type": "stream",
     "text": [
      "[0 1 0 0 1 0 0 0 0 0 1 1 0 1 1 1 1 1 0 1 1 0 0 0 1 0 0 0 1 1 0 0 1 1 1 0 0\n",
      " 1 0 0 1 1 1 0 1 1 1 0 0 1 1 1 1 1 1 0 1 0 1 1 1 1 1 1 0 0 0 0 1 1 1 1 1 0\n",
      " 0 1]\n"
     ]
    }
   ],
   "source": [
    "print(y_test)"
   ]
  },
  {
   "cell_type": "markdown",
   "metadata": {
    "colab_type": "text",
    "id": "kW3c7UYih0hT"
   },
   "source": [
    "## Feature Scaling"
   ]
  },
  {
   "cell_type": "code",
   "execution_count": 12,
   "metadata": {
    "colab": {},
    "colab_type": "code",
    "id": "9fQlDPKCh8sc"
   },
   "outputs": [],
   "source": [
    "from sklearn.preprocessing import StandardScaler\n",
    "sc = StandardScaler()\n",
    "X_train = sc.fit_transform(X_train)\n",
    "X_test = sc.transform(X_test)"
   ]
  },
  {
   "cell_type": "markdown",
   "metadata": {
    "colab_type": "text",
    "id": "bb6jCOCQiAmP"
   },
   "source": [
    "## Training the Kernel SVM model on the Training set"
   ]
  },
  {
   "cell_type": "code",
   "execution_count": 13,
   "metadata": {
    "colab": {},
    "colab_type": "code",
    "id": "e0pFVAmciHQs"
   },
   "outputs": [
    {
     "data": {
      "text/plain": [
       "SVC(C=0.5, gamma=0.1, random_state=0)"
      ]
     },
     "execution_count": 13,
     "metadata": {},
     "output_type": "execute_result"
    }
   ],
   "source": [
    "from sklearn.svm import SVC\n",
    "classifier = SVC(kernel = 'rbf', C= 0.5, gamma= 0.1, random_state = 0)\n",
    "classifier.fit(X_train, y_train)"
   ]
  },
  {
   "cell_type": "markdown",
   "metadata": {},
   "source": [
    "# Applying Grid Search to find the best model and the best parameters"
   ]
  },
  {
   "cell_type": "code",
   "execution_count": 15,
   "metadata": {},
   "outputs": [
    {
     "name": "stdout",
     "output_type": "stream",
     "text": [
      "Best Accuracy: 81.52 %\n",
      "Best Parameters: {'C': 0.5, 'gamma': 0.1, 'kernel': 'rbf'}\n"
     ]
    }
   ],
   "source": [
    "from sklearn.model_selection import GridSearchCV\n",
    "parameters = [{'C': [0.25, 0.5, 0.75, 1], 'kernel': ['linear']},\n",
    "              {'C': [0.25, 0.5, 0.75, 1], 'kernel': ['rbf'], 'gamma': [0.1, 0.2, 0.3, 0.4, 0.5, 0.6, 0.7, 0.8, 0.9]}]\n",
    "grid_search = GridSearchCV(estimator = classifier,\n",
    "                           param_grid = parameters,\n",
    "                           scoring = 'accuracy',\n",
    "                           cv = 10,\n",
    "                           n_jobs = -1)\n",
    "grid_search.fit(X_train, y_train)\n",
    "best_accuracy = grid_search.best_score_\n",
    "best_parameters = grid_search.best_params_\n",
    "print(\"Best Accuracy: {:.2f} %\".format(best_accuracy*100))\n",
    "print(\"Best Parameters:\", best_parameters)"
   ]
  },
  {
   "cell_type": "markdown",
   "metadata": {},
   "source": [
    "## Predicting the Test set results "
   ]
  },
  {
   "cell_type": "code",
   "execution_count": 16,
   "metadata": {},
   "outputs": [
    {
     "name": "stdout",
     "output_type": "stream",
     "text": [
      "[[0 0]\n",
      " [1 1]\n",
      " [1 0]\n",
      " [0 0]\n",
      " [0 1]\n",
      " [1 0]\n",
      " [0 0]\n",
      " [0 0]\n",
      " [0 0]\n",
      " [0 0]\n",
      " [1 1]\n",
      " [1 1]\n",
      " [0 0]\n",
      " [1 1]\n",
      " [1 1]\n",
      " [1 1]\n",
      " [0 1]\n",
      " [1 1]\n",
      " [0 0]\n",
      " [1 1]\n",
      " [1 1]\n",
      " [0 0]\n",
      " [0 0]\n",
      " [0 0]\n",
      " [1 1]\n",
      " [1 0]\n",
      " [0 0]\n",
      " [0 0]\n",
      " [1 1]\n",
      " [1 1]\n",
      " [1 0]\n",
      " [0 0]\n",
      " [1 1]\n",
      " [1 1]\n",
      " [1 1]\n",
      " [0 0]\n",
      " [0 0]\n",
      " [1 1]\n",
      " [0 0]\n",
      " [0 0]\n",
      " [1 1]\n",
      " [1 1]\n",
      " [1 1]\n",
      " [0 0]\n",
      " [1 1]\n",
      " [1 1]\n",
      " [1 1]\n",
      " [1 0]\n",
      " [0 0]\n",
      " [1 1]\n",
      " [1 1]\n",
      " [1 1]\n",
      " [1 1]\n",
      " [1 1]\n",
      " [1 1]\n",
      " [0 0]\n",
      " [1 1]\n",
      " [1 0]\n",
      " [1 1]\n",
      " [1 1]\n",
      " [1 1]\n",
      " [1 1]\n",
      " [1 1]\n",
      " [1 1]\n",
      " [1 0]\n",
      " [1 0]\n",
      " [1 0]\n",
      " [0 0]\n",
      " [1 1]\n",
      " [1 1]\n",
      " [0 1]\n",
      " [1 1]\n",
      " [1 1]\n",
      " [0 0]\n",
      " [0 0]\n",
      " [1 1]]\n"
     ]
    }
   ],
   "source": [
    "y_pred = classifier.predict(X_test)\n",
    "print(np.concatenate((y_pred.reshape(len(y_pred),1), y_test.reshape(len(y_test),1)),1))"
   ]
  },
  {
   "cell_type": "markdown",
   "metadata": {
    "colab_type": "text",
    "id": "h4Hwj34ziWQW"
   },
   "source": [
    "## Making the Confusion Matrix"
   ]
  },
  {
   "cell_type": "code",
   "execution_count": 17,
   "metadata": {
    "colab": {},
    "colab_type": "code",
    "id": "D6bpZwUiiXic"
   },
   "outputs": [
    {
     "name": "stdout",
     "output_type": "stream",
     "text": [
      "[[24  9]\n",
      " [ 3 40]]\n"
     ]
    }
   ],
   "source": [
    "from sklearn.metrics import confusion_matrix, accuracy_score\n",
    "y_pred = classifier.predict(X_test)\n",
    "cm = confusion_matrix(y_test, y_pred)\n",
    "print(cm)\n",
    "# accuracy_score(y_test, y_pred)"
   ]
  },
  {
   "cell_type": "markdown",
   "metadata": {},
   "source": [
    "## Applying k-Fold Cross Validation# "
   ]
  },
  {
   "cell_type": "code",
   "execution_count": 18,
   "metadata": {},
   "outputs": [
    {
     "name": "stdout",
     "output_type": "stream",
     "text": [
      "Accuracy: 81.52 %\n",
      "Standard Deviation: 6.05 %\n"
     ]
    }
   ],
   "source": [
    "from sklearn.model_selection import cross_val_score\n",
    "accuracies = cross_val_score(estimator = classifier, X = X_train, y = y_train, cv = 10)\n",
    "print(\"Accuracy: {:.2f} %\".format(accuracies.mean()*100))\n",
    "print(\"Standard Deviation: {:.2f} %\".format(accuracies.std()*100))"
   ]
  },
  {
   "cell_type": "markdown",
   "metadata": {},
   "source": [
    "## Predicting a new result\n"
   ]
  },
  {
   "cell_type": "code",
   "execution_count": 19,
   "metadata": {},
   "outputs": [
    {
     "name": "stdout",
     "output_type": "stream",
     "text": [
      "[0]\n"
     ]
    }
   ],
   "source": [
    "print(classifier.predict(sc.transform([[63,1,3,145,233,1,0,150,0,2.3,0,0,1]])))"
   ]
  },
  {
   "cell_type": "code",
   "execution_count": null,
   "metadata": {},
   "outputs": [],
   "source": []
  }
 ],
 "metadata": {
  "colab": {
   "collapsed_sections": [],
   "machine_shape": "hm",
   "name": "kernel_svm.ipynb",
   "provenance": [],
   "toc_visible": true
  },
  "kernelspec": {
   "display_name": "Python 3",
   "language": "python",
   "name": "python3"
  },
  "language_info": {
   "codemirror_mode": {
    "name": "ipython",
    "version": 3
   },
   "file_extension": ".py",
   "mimetype": "text/x-python",
   "name": "python",
   "nbconvert_exporter": "python",
   "pygments_lexer": "ipython3",
   "version": "3.7.6"
  }
 },
 "nbformat": 4,
 "nbformat_minor": 1
}
